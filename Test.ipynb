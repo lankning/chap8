{
 "cells": [
  {
   "cell_type": "code",
   "execution_count": 1,
   "id": "164858ad",
   "metadata": {},
   "outputs": [],
   "source": [
    "import tensorflow as tf\n",
    "import os\n",
    "from utils import load_imgs, CC_Pen, laplace_4\n",
    "import numpy as np"
   ]
  },
  {
   "cell_type": "code",
   "execution_count": 2,
   "id": "5489687d",
   "metadata": {},
   "outputs": [
    {
     "name": "stdout",
     "output_type": "stream",
     "text": [
      "find gpus: [PhysicalDevice(name='/physical_device:GPU:0', device_type='GPU')]\n"
     ]
    }
   ],
   "source": [
    "gpus = tf.config.experimental.list_physical_devices(device_type='GPU')\n",
    "print(\"find gpus:\",gpus)\n",
    "# set gpus memory used by growth\n",
    "for gpu in gpus:\n",
    "    tf.config.experimental.set_memory_growth(gpu, True)"
   ]
  },
  {
   "cell_type": "code",
   "execution_count": 3,
   "id": "9386bb77",
   "metadata": {
    "scrolled": true
   },
   "outputs": [],
   "source": [
    "# model = tf.keras.models.load_model('model/SVGG.h5',custom_objects={'CC_Pen': CC_Pen})\n",
    "# model = tf.keras.models.load_model('model/VGG19-S.h5',custom_objects={'CC_Pen': CC_Pen})\n",
    "model = tf.keras.models.load_model('model/VGG19-L4.h5')\n",
    "# model = tf.keras.models.load_model('model/VGG19.h5')"
   ]
  },
  {
   "cell_type": "code",
   "execution_count": 4,
   "id": "a5c4f76f",
   "metadata": {},
   "outputs": [
    {
     "name": "stdout",
     "output_type": "stream",
     "text": [
      "Accuracy in 浸润性 = 100.00%\n",
      "Accuracy in 良性 = 100.00%\n",
      "Accuracy in 原位性 = 100.00%\n"
     ]
    }
   ],
   "source": [
    "test_path = \"./Train\"\n",
    "cates = [\"浸润性\",\"良性\",\"原位性\"]\n",
    "for c in cates:\n",
    "    cate_path = os.path.join(test_path,c)\n",
    "    imgs = os.listdir(cate_path)\n",
    "    count_yes = 0\n",
    "    for img in imgs:\n",
    "        img_arr, label = load_imgs([os.path.join(cate_path,img)],cates)\n",
    "        pred = model.predict(img_arr)[0]\n",
    "        index = (np.where(pred == np.max(pred))[0])[0]\n",
    "        if index==label[0]:\n",
    "            count_yes += 1\n",
    "    print(\"Accuracy in %s = %.2f%%\" % (c,(100*count_yes/len(imgs))))"
   ]
  },
  {
   "cell_type": "code",
   "execution_count": 5,
   "id": "da7a2a79",
   "metadata": {},
   "outputs": [],
   "source": [
    "test_path = \"./Test\"\n",
    "cates = [\"浸润性\",\"良性\",\"原位性\"]\n",
    "all_yes = 0\n",
    "for c in cates:\n",
    "    cate_path = os.path.join(test_path,c)\n",
    "    imgs = os.listdir(cate_path)\n",
    "    count_yes = 0\n",
    "    for img in imgs:\n",
    "        img_arr, label = load_imgs([os.path.join(cate_path,img)],cates)\n",
    "        pred = model.predict(img_arr)[0]\n",
    "        index = (np.where(pred == np.max(pred))[0])[0]\n",
    "        if index==label[0]:\n",
    "            count_yes += 1\n",
    "    print(\"Accuracy in %s = %.2f%%\" % (c,(100*count_yes/len(imgs))))\n",
    "    all_yes += count_yes\n",
    "print(\"Accuracy in all = %.2f%%\" % (100*all_yes/89))"
   ]
  },
  {
   "cell_type": "code",
   "execution_count": null,
   "id": "57c7fa91",
   "metadata": {},
   "outputs": [],
   "source": []
  }
 ],
 "metadata": {
  "kernelspec": {
   "display_name": "Python 3",
   "language": "python",
   "name": "python3"
  },
  "language_info": {
   "codemirror_mode": {
    "name": "ipython",
    "version": 3
   },
   "file_extension": ".py",
   "mimetype": "text/x-python",
   "name": "python",
   "nbconvert_exporter": "python",
   "pygments_lexer": "ipython3",
   "version": "3.7.10"
  }
 },
 "nbformat": 4,
 "nbformat_minor": 5
}
